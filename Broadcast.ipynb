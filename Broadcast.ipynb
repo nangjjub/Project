{
 "cells": [
  {
   "cell_type": "markdown",
   "metadata": {},
   "source": [
    "[1] 데이터 정제"
   ]
  },
  {
   "cell_type": "code",
   "execution_count": 4,
   "metadata": {},
   "outputs": [
    {
     "ename": "FileNotFoundError",
     "evalue": "[Errno 2] No such file or directory: 'dataset/토크캠방.txt'",
     "output_type": "error",
     "traceback": [
      "\u001b[1;31m---------------------------------------------------------------------------\u001b[0m",
      "\u001b[1;31mFileNotFoundError\u001b[0m                         Traceback (most recent call last)",
      "Cell \u001b[1;32mIn[4], line 10\u001b[0m\n\u001b[0;32m      7\u001b[0m header \u001b[38;5;241m=\u001b[39m [\u001b[38;5;124m\"\u001b[39m\u001b[38;5;124mcategori\u001b[39m\u001b[38;5;124m\"\u001b[39m, \u001b[38;5;124m\"\u001b[39m\u001b[38;5;124mdonated\u001b[39m\u001b[38;5;124m\"\u001b[39m, \u001b[38;5;124m\"\u001b[39m\u001b[38;5;124mmaxViewer\u001b[39m\u001b[38;5;124m\"\u001b[39m, \u001b[38;5;124m\"\u001b[39m\u001b[38;5;124maccumulateViewer\u001b[39m\u001b[38;5;124m\"\u001b[39m, \u001b[38;5;124m\"\u001b[39m\u001b[38;5;124mTotal time\u001b[39m\u001b[38;5;124m\"\u001b[39m, \u001b[38;5;124m\"\u001b[39m\u001b[38;5;124mTotal time(minute)\u001b[39m\u001b[38;5;124m\"\u001b[39m]\n\u001b[0;32m      8\u001b[0m df \u001b[38;5;241m=\u001b[39m pd\u001b[38;5;241m.\u001b[39mDataFrame(columns \u001b[38;5;241m=\u001b[39m header)\n\u001b[1;32m---> 10\u001b[0m \u001b[38;5;28;01mwith\u001b[39;00m \u001b[38;5;28mopen\u001b[39m(\u001b[38;5;124m\"\u001b[39m\u001b[38;5;124mdataset/토크캠방.txt\u001b[39m\u001b[38;5;124m\"\u001b[39m, \u001b[38;5;124m'\u001b[39m\u001b[38;5;124mr\u001b[39m\u001b[38;5;124m'\u001b[39m, encoding\u001b[38;5;241m=\u001b[39m\u001b[38;5;124m'\u001b[39m\u001b[38;5;124mUTF-8\u001b[39m\u001b[38;5;124m'\u001b[39m) \u001b[38;5;28;01mas\u001b[39;00m f1:\n\u001b[0;32m     11\u001b[0m     \u001b[38;5;28;01mwith\u001b[39;00m \u001b[38;5;28mopen\u001b[39m(\u001b[38;5;124m\"\u001b[39m\u001b[38;5;124mdataset/토크캠방1.txt\u001b[39m\u001b[38;5;124m\"\u001b[39m, \u001b[38;5;124m'\u001b[39m\u001b[38;5;124mw\u001b[39m\u001b[38;5;124m'\u001b[39m, encoding\u001b[38;5;241m=\u001b[39m\u001b[38;5;124m'\u001b[39m\u001b[38;5;124mUTF-8\u001b[39m\u001b[38;5;124m'\u001b[39m) \u001b[38;5;28;01mas\u001b[39;00m f2:\n\u001b[0;32m     12\u001b[0m         l \u001b[38;5;241m=\u001b[39m f1\u001b[38;5;241m.\u001b[39mreadline()\n",
      "File \u001b[1;32mC:\\anaconda\\Lib\\site-packages\\IPython\\core\\interactiveshell.py:310\u001b[0m, in \u001b[0;36m_modified_open\u001b[1;34m(file, *args, **kwargs)\u001b[0m\n\u001b[0;32m    303\u001b[0m \u001b[38;5;28;01mif\u001b[39;00m file \u001b[38;5;129;01min\u001b[39;00m {\u001b[38;5;241m0\u001b[39m, \u001b[38;5;241m1\u001b[39m, \u001b[38;5;241m2\u001b[39m}:\n\u001b[0;32m    304\u001b[0m     \u001b[38;5;28;01mraise\u001b[39;00m \u001b[38;5;167;01mValueError\u001b[39;00m(\n\u001b[0;32m    305\u001b[0m         \u001b[38;5;124mf\u001b[39m\u001b[38;5;124m\"\u001b[39m\u001b[38;5;124mIPython won\u001b[39m\u001b[38;5;124m'\u001b[39m\u001b[38;5;124mt let you open fd=\u001b[39m\u001b[38;5;132;01m{\u001b[39;00mfile\u001b[38;5;132;01m}\u001b[39;00m\u001b[38;5;124m by default \u001b[39m\u001b[38;5;124m\"\u001b[39m\n\u001b[0;32m    306\u001b[0m         \u001b[38;5;124m\"\u001b[39m\u001b[38;5;124mas it is likely to crash IPython. If you know what you are doing, \u001b[39m\u001b[38;5;124m\"\u001b[39m\n\u001b[0;32m    307\u001b[0m         \u001b[38;5;124m\"\u001b[39m\u001b[38;5;124myou can use builtins\u001b[39m\u001b[38;5;124m'\u001b[39m\u001b[38;5;124m open.\u001b[39m\u001b[38;5;124m\"\u001b[39m\n\u001b[0;32m    308\u001b[0m     )\n\u001b[1;32m--> 310\u001b[0m \u001b[38;5;28;01mreturn\u001b[39;00m io_open(file, \u001b[38;5;241m*\u001b[39margs, \u001b[38;5;241m*\u001b[39m\u001b[38;5;241m*\u001b[39mkwargs)\n",
      "\u001b[1;31mFileNotFoundError\u001b[0m: [Errno 2] No such file or directory: 'dataset/토크캠방.txt'"
     ]
    }
   ],
   "source": [
    "import pandas as pd\n",
    "import numpy as np\n",
    "import seaborn as snb\n",
    "import matplotlib.pyplot as plt\n",
    "import random\n",
    "#[\"카테고리\", \"별풍선 개수\", \"최대동시시청자수\", \"누적시청자수\", \"총 방송시간\", \"총 방송시간(분)\"]\n",
    "header = [\"categori\", \"donated\", \"maxViewer\", \"accumulateViewer\", \"Total time\", \"Total time(minute)\"]\n",
    "df = pd.DataFrame(columns = header)\n",
    "\n",
    "with open(\"dataset/토크캠방.txt\", 'r', encoding='UTF-8') as f1:\n",
    "    with open(\"dataset/토크캠방1.txt\", 'w', encoding='UTF-8') as f2:\n",
    "        l = f1.readline()\n",
    "        while(l):\n",
    "            temp = list()\n",
    "            temp = l.split(',')\n",
    "            l = ''.join(temp)\n",
    "            f2.write(l)\n",
    "            l = f1.readline()\n",
    "            \n",
    "with open(\"dataset/토크캠방1.txt\", 'r', encoding='UTF-8') as f2:\n",
    "     with open(\"dataset/토크캠방2.txt\", 'w', encoding='UTF-8') as f3:\n",
    "        l = f2.readline()\n",
    "        while(l):\n",
    "            if(l.rstrip().isdigit()):\n",
    "                f3.write(l)\n",
    "            elif(l.rstrip().endswith('시간')):\n",
    "                f3.write(l)\n",
    "            elif(l.rstrip().endswith('분')):\n",
    "                f3.write(l)\n",
    "            l = f2.readline()\n",
    "\n",
    "talklist1 = list()\n",
    "talklist2 = list()\n",
    "talklist3 = list()\n",
    "talklist4 = list()\n",
    "\n",
    "with open(\"dataset/토크캠방2.txt\", 'r', encoding='UTF-8') as f3:\n",
    "    l = f3.readline()\n",
    "    n = 1\n",
    "    while(l):\n",
    "        if(n%6 == 2):\n",
    "            talklist1.append(l.rstrip())\n",
    "        elif(n%6 == 3):\n",
    "            talklist2.append(l.rstrip())\n",
    "        elif(n%6 == 4):\n",
    "            talklist3.append(l.rstrip())\n",
    "        elif(n%6 == 5):\n",
    "            talklist4.append(l.rstrip())\n",
    "        l = f3.readline()\n",
    "        n = n + 1"
   ]
  },
  {
   "cell_type": "code",
   "execution_count": 29,
   "metadata": {},
   "outputs": [],
   "source": [
    "with open(\"dataset/LoL.txt\", 'r', encoding='UTF-8') as f1:\n",
    "    with open(\"dataset/LoL1.txt\", 'w', encoding='UTF-8') as f2:\n",
    "        l = f1.readline()\n",
    "        while(l):\n",
    "            temp = list()\n",
    "            temp = l.split(',')\n",
    "            l = ''.join(temp)\n",
    "            f2.write(l)\n",
    "            l = f1.readline()\n",
    "            \n",
    "with open(\"dataset/LoL1.txt\", 'r', encoding='UTF-8') as f2:\n",
    "     with open(\"dataset/LoL2.txt\", 'w', encoding='UTF-8') as f3:\n",
    "        l = f2.readline()\n",
    "        while(l):\n",
    "            if(l.rstrip().isdigit()):\n",
    "                f3.write(l)\n",
    "            elif(l.rstrip().endswith('시간')):\n",
    "                f3.write(l)\n",
    "            elif(l.rstrip().endswith('분')):\n",
    "                f3.write(l)\n",
    "            l = f2.readline()\n",
    "\n",
    "lollist1 = list()\n",
    "lollist2 = list()\n",
    "lollist3 = list()\n",
    "lollist4 = list()\n",
    "\n",
    "with open(\"dataset/LoL2.txt\", 'r', encoding='UTF-8') as f3:\n",
    "    l = f3.readline()\n",
    "    n = 1\n",
    "    while(l):\n",
    "        if(n%6 == 2):\n",
    "            lollist1.append(l.rstrip())\n",
    "        elif(n%6 == 3):\n",
    "            lollist2.append(l.rstrip())\n",
    "        elif(n%6 == 4):\n",
    "            lollist3.append(l.rstrip())\n",
    "        elif(n%6 == 5):\n",
    "            lollist4.append(l.rstrip())\n",
    "        l = f3.readline()\n",
    "        n = n + 1"
   ]
  },
  {
   "cell_type": "code",
   "execution_count": 30,
   "metadata": {},
   "outputs": [],
   "source": [
    "with open(\"dataset/배틀그라운드.txt\", 'r', encoding='UTF-8') as f1:\n",
    "    with open(\"dataset/배틀그라운드1.txt\", 'w', encoding='UTF-8') as f2:\n",
    "        l = f1.readline()\n",
    "        while(l):\n",
    "            temp = list()\n",
    "            temp = l.split(',')\n",
    "            l = ''.join(temp)\n",
    "            f2.write(l)\n",
    "            l = f1.readline()\n",
    "            \n",
    "with open(\"dataset/배틀그라운드1.txt\", 'r', encoding='UTF-8') as f2:\n",
    "     with open(\"dataset/배틀그라운드2.txt\", 'w', encoding='UTF-8') as f3:\n",
    "        l = f2.readline()\n",
    "        while(l):\n",
    "            if(l.rstrip().isdigit()):\n",
    "                f3.write(l)\n",
    "            elif(l.rstrip().endswith('시간')):\n",
    "                f3.write(l)\n",
    "            elif(l.rstrip().endswith('분')):\n",
    "                f3.write(l)\n",
    "            l = f2.readline()\n",
    "\n",
    "batlist1 = list()\n",
    "batlist2 = list()\n",
    "batlist3 = list()\n",
    "batlist4 = list()\n",
    "\n",
    "with open(\"dataset/배틀그라운드2.txt\", 'r', encoding='UTF-8') as f3:\n",
    "    l = f3.readline()\n",
    "    n = 1\n",
    "    while(l):\n",
    "        if(n%6 == 2):\n",
    "            batlist1.append(l.rstrip())\n",
    "        elif(n%6 == 3):\n",
    "            batlist2.append(l.rstrip())\n",
    "        elif(n%6 == 4):\n",
    "            batlist3.append(l.rstrip())\n",
    "        elif(n%6 == 5):\n",
    "            batlist4.append(l.rstrip())\n",
    "        l = f3.readline()\n",
    "        n = n + 1"
   ]
  },
  {
   "cell_type": "markdown",
   "metadata": {},
   "source": [
    "위 코드들은 각 카테고리별로 \"별풍선 개수\", \"최대동시시청자수\", \"누적시청자수\", \"총 방송시간\"의 값들을 각각의 list에 담아주는 코드이다."
   ]
  },
  {
   "cell_type": "code",
   "execution_count": 31,
   "metadata": {},
   "outputs": [],
   "source": [
    "floatlist1 = list()\n",
    "floatlist2 = list()\n",
    "floatlist3 = list()\n",
    "for x in talklist1:\n",
    "    floatlist1.append(float(x))\n",
    "for x in lollist1:\n",
    "    floatlist1.append(float(x))\n",
    "for x in batlist1:\n",
    "    floatlist1.append(float(x))\n",
    "    \n",
    "for x in talklist2:\n",
    "    floatlist2.append(float(x))\n",
    "for x in lollist2:\n",
    "    floatlist2.append(float(x))\n",
    "for x in batlist2:\n",
    "    floatlist2.append(float(x))\n",
    "\n",
    "for x in talklist3:\n",
    "    floatlist3.append(float(x))\n",
    "for x in lollist3:\n",
    "    floatlist3.append(float(x))\n",
    "for x in batlist3:\n",
    "    floatlist3.append(float(x))"
   ]
  },
  {
   "cell_type": "markdown",
   "metadata": {},
   "source": [
    "만들어진 카테고리별 list를 하나의 list로 통합시켜주었다."
   ]
  },
  {
   "cell_type": "code",
   "execution_count": 32,
   "metadata": {},
   "outputs": [],
   "source": [
    "df[\"donated\"] = floatlist1\n",
    "df[\"maxViewer\"] = floatlist2\n",
    "df[\"accumulateViewer\"] = floatlist3\n",
    "df[\"Total time\"] = talklist4 + lollist4 + batlist4\n",
    "\n",
    "categorylist = list()\n",
    "for i in range(0, 1000):\n",
    "    categorylist.append(\"Talk\")\n",
    "for i in range(1000, 2000):\n",
    "    categorylist.append(\"LeagueOfLegends\")\n",
    "for i in range(2000, 3000):\n",
    "    categorylist.append(\"BattleGround\")\n",
    "\n",
    "df[\"categori\"] = categorylist"
   ]
  },
  {
   "cell_type": "markdown",
   "metadata": {},
   "source": [
    "index를 바탕으로 각 카테고리의 이름을 기입했다."
   ]
  },
  {
   "cell_type": "code",
   "execution_count": 33,
   "metadata": {},
   "outputs": [
    {
     "data": {
      "text/html": [
       "<div>\n",
       "<style scoped>\n",
       "    .dataframe tbody tr th:only-of-type {\n",
       "        vertical-align: middle;\n",
       "    }\n",
       "\n",
       "    .dataframe tbody tr th {\n",
       "        vertical-align: top;\n",
       "    }\n",
       "\n",
       "    .dataframe thead th {\n",
       "        text-align: right;\n",
       "    }\n",
       "</style>\n",
       "<table border=\"1\" class=\"dataframe\">\n",
       "  <thead>\n",
       "    <tr style=\"text-align: right;\">\n",
       "      <th></th>\n",
       "      <th>categori</th>\n",
       "      <th>donated</th>\n",
       "      <th>maxViewer</th>\n",
       "      <th>accumulateViewer</th>\n",
       "      <th>Total time</th>\n",
       "      <th>Total time(minute)</th>\n",
       "    </tr>\n",
       "  </thead>\n",
       "  <tbody>\n",
       "    <tr>\n",
       "      <th>0</th>\n",
       "      <td>Talk</td>\n",
       "      <td>1895703.0</td>\n",
       "      <td>16027.0</td>\n",
       "      <td>632897.0</td>\n",
       "      <td>2일 14시간</td>\n",
       "      <td>NaN</td>\n",
       "    </tr>\n",
       "    <tr>\n",
       "      <th>1</th>\n",
       "      <td>Talk</td>\n",
       "      <td>1801979.0</td>\n",
       "      <td>1395.0</td>\n",
       "      <td>161930.0</td>\n",
       "      <td>4일 0시간</td>\n",
       "      <td>NaN</td>\n",
       "    </tr>\n",
       "    <tr>\n",
       "      <th>2</th>\n",
       "      <td>Talk</td>\n",
       "      <td>1690064.0</td>\n",
       "      <td>6291.0</td>\n",
       "      <td>1077588.0</td>\n",
       "      <td>5일 4시간</td>\n",
       "      <td>NaN</td>\n",
       "    </tr>\n",
       "    <tr>\n",
       "      <th>3</th>\n",
       "      <td>Talk</td>\n",
       "      <td>1628292.0</td>\n",
       "      <td>2259.0</td>\n",
       "      <td>184392.0</td>\n",
       "      <td>3일 11시간</td>\n",
       "      <td>NaN</td>\n",
       "    </tr>\n",
       "    <tr>\n",
       "      <th>4</th>\n",
       "      <td>Talk</td>\n",
       "      <td>1514350.0</td>\n",
       "      <td>560.0</td>\n",
       "      <td>178432.0</td>\n",
       "      <td>5일 22시간</td>\n",
       "      <td>NaN</td>\n",
       "    </tr>\n",
       "    <tr>\n",
       "      <th>...</th>\n",
       "      <td>...</td>\n",
       "      <td>...</td>\n",
       "      <td>...</td>\n",
       "      <td>...</td>\n",
       "      <td>...</td>\n",
       "      <td>...</td>\n",
       "    </tr>\n",
       "    <tr>\n",
       "      <th>2995</th>\n",
       "      <td>BattleGround</td>\n",
       "      <td>1590.0</td>\n",
       "      <td>15.0</td>\n",
       "      <td>492.0</td>\n",
       "      <td>2일 18시간</td>\n",
       "      <td>NaN</td>\n",
       "    </tr>\n",
       "    <tr>\n",
       "      <th>2996</th>\n",
       "      <td>BattleGround</td>\n",
       "      <td>1587.0</td>\n",
       "      <td>22.0</td>\n",
       "      <td>1572.0</td>\n",
       "      <td>5일 22시간</td>\n",
       "      <td>NaN</td>\n",
       "    </tr>\n",
       "    <tr>\n",
       "      <th>2997</th>\n",
       "      <td>BattleGround</td>\n",
       "      <td>1586.0</td>\n",
       "      <td>13.0</td>\n",
       "      <td>504.0</td>\n",
       "      <td>2일 5시간</td>\n",
       "      <td>NaN</td>\n",
       "    </tr>\n",
       "    <tr>\n",
       "      <th>2998</th>\n",
       "      <td>BattleGround</td>\n",
       "      <td>1581.0</td>\n",
       "      <td>6.0</td>\n",
       "      <td>217.0</td>\n",
       "      <td>2일 23시간</td>\n",
       "      <td>NaN</td>\n",
       "    </tr>\n",
       "    <tr>\n",
       "      <th>2999</th>\n",
       "      <td>BattleGround</td>\n",
       "      <td>1580.0</td>\n",
       "      <td>14.0</td>\n",
       "      <td>1618.0</td>\n",
       "      <td>9일 1시간</td>\n",
       "      <td>NaN</td>\n",
       "    </tr>\n",
       "  </tbody>\n",
       "</table>\n",
       "<p>3000 rows × 6 columns</p>\n",
       "</div>"
      ],
      "text/plain": [
       "          categori    donated  maxViewer  accumulateViewer Total time  \\\n",
       "0             Talk  1895703.0    16027.0          632897.0    2일 14시간   \n",
       "1             Talk  1801979.0     1395.0          161930.0     4일 0시간   \n",
       "2             Talk  1690064.0     6291.0         1077588.0     5일 4시간   \n",
       "3             Talk  1628292.0     2259.0          184392.0    3일 11시간   \n",
       "4             Talk  1514350.0      560.0          178432.0    5일 22시간   \n",
       "...            ...        ...        ...               ...        ...   \n",
       "2995  BattleGround     1590.0       15.0             492.0    2일 18시간   \n",
       "2996  BattleGround     1587.0       22.0            1572.0    5일 22시간   \n",
       "2997  BattleGround     1586.0       13.0             504.0     2일 5시간   \n",
       "2998  BattleGround     1581.0        6.0             217.0    2일 23시간   \n",
       "2999  BattleGround     1580.0       14.0            1618.0     9일 1시간   \n",
       "\n",
       "     Total time(minute)  \n",
       "0                   NaN  \n",
       "1                   NaN  \n",
       "2                   NaN  \n",
       "3                   NaN  \n",
       "4                   NaN  \n",
       "...                 ...  \n",
       "2995                NaN  \n",
       "2996                NaN  \n",
       "2997                NaN  \n",
       "2998                NaN  \n",
       "2999                NaN  \n",
       "\n",
       "[3000 rows x 6 columns]"
      ]
     },
     "execution_count": 33,
     "metadata": {},
     "output_type": "execute_result"
    }
   ],
   "source": [
    "df"
   ]
  },
  {
   "cell_type": "code",
   "execution_count": 34,
   "metadata": {},
   "outputs": [],
   "source": [
    "list5 = list()\n",
    "for i in range(3000):\n",
    "    if(df[\"Total time\"][i].split(' ')[0].endswith(\"일\")):\n",
    "        list5.append(float(df[\"Total time\"][i].split(' ')[0].rstrip(\"일\"))*24*60 +  float(df[\"Total time\"][i].split(' ')[1].rstrip(\"시간\"))*60)\n",
    "    elif(df[\"Total time\"][i].split(' ')[0].endswith(\"시간\")):\n",
    "        list5.append(float(df[\"Total time\"][i].split(' ')[0].rstrip(\"시간\"))*60)\n",
    "        \n",
    "df[\"Total time(minute)\"] = list5"
   ]
  },
  {
   "cell_type": "markdown",
   "metadata": {},
   "source": [
    "현재 Total time은 수치적으로 정확한 비교가 힘들기 때문에 (분)단위로 계산하여 Totla time(minute)에 수치형으로 새로 데이터를 구성했다."
   ]
  },
  {
   "cell_type": "code",
   "execution_count": 35,
   "metadata": {},
   "outputs": [
    {
     "data": {
      "text/html": [
       "<div>\n",
       "<style scoped>\n",
       "    .dataframe tbody tr th:only-of-type {\n",
       "        vertical-align: middle;\n",
       "    }\n",
       "\n",
       "    .dataframe tbody tr th {\n",
       "        vertical-align: top;\n",
       "    }\n",
       "\n",
       "    .dataframe thead th {\n",
       "        text-align: right;\n",
       "    }\n",
       "</style>\n",
       "<table border=\"1\" class=\"dataframe\">\n",
       "  <thead>\n",
       "    <tr style=\"text-align: right;\">\n",
       "      <th></th>\n",
       "      <th>categori</th>\n",
       "      <th>donated</th>\n",
       "      <th>maxViewer</th>\n",
       "      <th>accumulateViewer</th>\n",
       "      <th>Total time</th>\n",
       "      <th>Total time(minute)</th>\n",
       "    </tr>\n",
       "  </thead>\n",
       "  <tbody>\n",
       "    <tr>\n",
       "      <th>0</th>\n",
       "      <td>Talk</td>\n",
       "      <td>1895703.0</td>\n",
       "      <td>16027.0</td>\n",
       "      <td>632897.0</td>\n",
       "      <td>2일 14시간</td>\n",
       "      <td>3720.0</td>\n",
       "    </tr>\n",
       "    <tr>\n",
       "      <th>1</th>\n",
       "      <td>Talk</td>\n",
       "      <td>1801979.0</td>\n",
       "      <td>1395.0</td>\n",
       "      <td>161930.0</td>\n",
       "      <td>4일 0시간</td>\n",
       "      <td>5760.0</td>\n",
       "    </tr>\n",
       "    <tr>\n",
       "      <th>2</th>\n",
       "      <td>Talk</td>\n",
       "      <td>1690064.0</td>\n",
       "      <td>6291.0</td>\n",
       "      <td>1077588.0</td>\n",
       "      <td>5일 4시간</td>\n",
       "      <td>7440.0</td>\n",
       "    </tr>\n",
       "    <tr>\n",
       "      <th>3</th>\n",
       "      <td>Talk</td>\n",
       "      <td>1628292.0</td>\n",
       "      <td>2259.0</td>\n",
       "      <td>184392.0</td>\n",
       "      <td>3일 11시간</td>\n",
       "      <td>4980.0</td>\n",
       "    </tr>\n",
       "    <tr>\n",
       "      <th>4</th>\n",
       "      <td>Talk</td>\n",
       "      <td>1514350.0</td>\n",
       "      <td>560.0</td>\n",
       "      <td>178432.0</td>\n",
       "      <td>5일 22시간</td>\n",
       "      <td>8520.0</td>\n",
       "    </tr>\n",
       "    <tr>\n",
       "      <th>...</th>\n",
       "      <td>...</td>\n",
       "      <td>...</td>\n",
       "      <td>...</td>\n",
       "      <td>...</td>\n",
       "      <td>...</td>\n",
       "      <td>...</td>\n",
       "    </tr>\n",
       "    <tr>\n",
       "      <th>2995</th>\n",
       "      <td>BattleGround</td>\n",
       "      <td>1590.0</td>\n",
       "      <td>15.0</td>\n",
       "      <td>492.0</td>\n",
       "      <td>2일 18시간</td>\n",
       "      <td>3960.0</td>\n",
       "    </tr>\n",
       "    <tr>\n",
       "      <th>2996</th>\n",
       "      <td>BattleGround</td>\n",
       "      <td>1587.0</td>\n",
       "      <td>22.0</td>\n",
       "      <td>1572.0</td>\n",
       "      <td>5일 22시간</td>\n",
       "      <td>8520.0</td>\n",
       "    </tr>\n",
       "    <tr>\n",
       "      <th>2997</th>\n",
       "      <td>BattleGround</td>\n",
       "      <td>1586.0</td>\n",
       "      <td>13.0</td>\n",
       "      <td>504.0</td>\n",
       "      <td>2일 5시간</td>\n",
       "      <td>3180.0</td>\n",
       "    </tr>\n",
       "    <tr>\n",
       "      <th>2998</th>\n",
       "      <td>BattleGround</td>\n",
       "      <td>1581.0</td>\n",
       "      <td>6.0</td>\n",
       "      <td>217.0</td>\n",
       "      <td>2일 23시간</td>\n",
       "      <td>4260.0</td>\n",
       "    </tr>\n",
       "    <tr>\n",
       "      <th>2999</th>\n",
       "      <td>BattleGround</td>\n",
       "      <td>1580.0</td>\n",
       "      <td>14.0</td>\n",
       "      <td>1618.0</td>\n",
       "      <td>9일 1시간</td>\n",
       "      <td>13020.0</td>\n",
       "    </tr>\n",
       "  </tbody>\n",
       "</table>\n",
       "<p>3000 rows × 6 columns</p>\n",
       "</div>"
      ],
      "text/plain": [
       "          categori    donated  maxViewer  accumulateViewer Total time  \\\n",
       "0             Talk  1895703.0    16027.0          632897.0    2일 14시간   \n",
       "1             Talk  1801979.0     1395.0          161930.0     4일 0시간   \n",
       "2             Talk  1690064.0     6291.0         1077588.0     5일 4시간   \n",
       "3             Talk  1628292.0     2259.0          184392.0    3일 11시간   \n",
       "4             Talk  1514350.0      560.0          178432.0    5일 22시간   \n",
       "...            ...        ...        ...               ...        ...   \n",
       "2995  BattleGround     1590.0       15.0             492.0    2일 18시간   \n",
       "2996  BattleGround     1587.0       22.0            1572.0    5일 22시간   \n",
       "2997  BattleGround     1586.0       13.0             504.0     2일 5시간   \n",
       "2998  BattleGround     1581.0        6.0             217.0    2일 23시간   \n",
       "2999  BattleGround     1580.0       14.0            1618.0     9일 1시간   \n",
       "\n",
       "      Total time(minute)  \n",
       "0                 3720.0  \n",
       "1                 5760.0  \n",
       "2                 7440.0  \n",
       "3                 4980.0  \n",
       "4                 8520.0  \n",
       "...                  ...  \n",
       "2995              3960.0  \n",
       "2996              8520.0  \n",
       "2997              3180.0  \n",
       "2998              4260.0  \n",
       "2999             13020.0  \n",
       "\n",
       "[3000 rows x 6 columns]"
      ]
     },
     "execution_count": 35,
     "metadata": {},
     "output_type": "execute_result"
    }
   ],
   "source": [
    "df"
   ]
  },
  {
   "cell_type": "markdown",
   "metadata": {},
   "source": [
    "Z-Scaling(0~1)"
   ]
  },
  {
   "cell_type": "code",
   "execution_count": 36,
   "metadata": {},
   "outputs": [
    {
     "name": "stderr",
     "output_type": "stream",
     "text": [
      "<ipython-input-36-e9c95c37bba2>:11: SettingWithCopyWarning: \n",
      "A value is trying to be set on a copy of a slice from a DataFrame\n",
      "\n",
      "See the caveats in the documentation: https://pandas.pydata.org/pandas-docs/stable/user_guide/indexing.html#returning-a-view-versus-a-copy\n",
      "  df_zscale[x][i] = a\n"
     ]
    },
    {
     "data": {
      "text/html": [
       "<div>\n",
       "<style scoped>\n",
       "    .dataframe tbody tr th:only-of-type {\n",
       "        vertical-align: middle;\n",
       "    }\n",
       "\n",
       "    .dataframe tbody tr th {\n",
       "        vertical-align: top;\n",
       "    }\n",
       "\n",
       "    .dataframe thead th {\n",
       "        text-align: right;\n",
       "    }\n",
       "</style>\n",
       "<table border=\"1\" class=\"dataframe\">\n",
       "  <thead>\n",
       "    <tr style=\"text-align: right;\">\n",
       "      <th></th>\n",
       "      <th>categori</th>\n",
       "      <th>donated</th>\n",
       "      <th>maxViewer</th>\n",
       "      <th>accumulateViewer</th>\n",
       "      <th>Total time</th>\n",
       "      <th>Total time(minute)</th>\n",
       "    </tr>\n",
       "  </thead>\n",
       "  <tbody>\n",
       "    <tr>\n",
       "      <th>0</th>\n",
       "      <td>Talk</td>\n",
       "      <td>13.102490</td>\n",
       "      <td>2.268674</td>\n",
       "      <td>632897.0</td>\n",
       "      <td>2일 14시간</td>\n",
       "      <td>-0.785600</td>\n",
       "    </tr>\n",
       "    <tr>\n",
       "      <th>1</th>\n",
       "      <td>Talk</td>\n",
       "      <td>12.429934</td>\n",
       "      <td>0.053572</td>\n",
       "      <td>161930.0</td>\n",
       "      <td>4일 0시간</td>\n",
       "      <td>-0.252022</td>\n",
       "    </tr>\n",
       "    <tr>\n",
       "      <th>2</th>\n",
       "      <td>Talk</td>\n",
       "      <td>11.626841</td>\n",
       "      <td>0.794765</td>\n",
       "      <td>1077588.0</td>\n",
       "      <td>5일 4시간</td>\n",
       "      <td>0.187396</td>\n",
       "    </tr>\n",
       "    <tr>\n",
       "      <th>3</th>\n",
       "      <td>Talk</td>\n",
       "      <td>11.183571</td>\n",
       "      <td>0.184371</td>\n",
       "      <td>184392.0</td>\n",
       "      <td>3일 11시간</td>\n",
       "      <td>-0.456037</td>\n",
       "    </tr>\n",
       "    <tr>\n",
       "      <th>4</th>\n",
       "      <td>Talk</td>\n",
       "      <td>10.365932</td>\n",
       "      <td>-0.072836</td>\n",
       "      <td>178432.0</td>\n",
       "      <td>5일 22시간</td>\n",
       "      <td>0.469878</td>\n",
       "    </tr>\n",
       "    <tr>\n",
       "      <th>...</th>\n",
       "      <td>...</td>\n",
       "      <td>...</td>\n",
       "      <td>...</td>\n",
       "      <td>...</td>\n",
       "      <td>...</td>\n",
       "      <td>...</td>\n",
       "    </tr>\n",
       "    <tr>\n",
       "      <th>2995</th>\n",
       "      <td>BattleGround</td>\n",
       "      <td>-0.489508</td>\n",
       "      <td>-0.155343</td>\n",
       "      <td>492.0</td>\n",
       "      <td>2일 18시간</td>\n",
       "      <td>-0.722826</td>\n",
       "    </tr>\n",
       "    <tr>\n",
       "      <th>2996</th>\n",
       "      <td>BattleGround</td>\n",
       "      <td>-0.489529</td>\n",
       "      <td>-0.154283</td>\n",
       "      <td>1572.0</td>\n",
       "      <td>5일 22시간</td>\n",
       "      <td>0.469878</td>\n",
       "    </tr>\n",
       "    <tr>\n",
       "      <th>2997</th>\n",
       "      <td>BattleGround</td>\n",
       "      <td>-0.489536</td>\n",
       "      <td>-0.155645</td>\n",
       "      <td>504.0</td>\n",
       "      <td>2일 5시간</td>\n",
       "      <td>-0.926841</td>\n",
       "    </tr>\n",
       "    <tr>\n",
       "      <th>2998</th>\n",
       "      <td>BattleGround</td>\n",
       "      <td>-0.489572</td>\n",
       "      <td>-0.156705</td>\n",
       "      <td>217.0</td>\n",
       "      <td>2일 23시간</td>\n",
       "      <td>-0.644359</td>\n",
       "    </tr>\n",
       "    <tr>\n",
       "      <th>2999</th>\n",
       "      <td>BattleGround</td>\n",
       "      <td>-0.489579</td>\n",
       "      <td>-0.155494</td>\n",
       "      <td>1618.0</td>\n",
       "      <td>9일 1시간</td>\n",
       "      <td>1.646889</td>\n",
       "    </tr>\n",
       "  </tbody>\n",
       "</table>\n",
       "<p>3000 rows × 6 columns</p>\n",
       "</div>"
      ],
      "text/plain": [
       "          categori    donated  maxViewer  accumulateViewer Total time  \\\n",
       "0             Talk  13.102490   2.268674          632897.0    2일 14시간   \n",
       "1             Talk  12.429934   0.053572          161930.0     4일 0시간   \n",
       "2             Talk  11.626841   0.794765         1077588.0     5일 4시간   \n",
       "3             Talk  11.183571   0.184371          184392.0    3일 11시간   \n",
       "4             Talk  10.365932  -0.072836          178432.0    5일 22시간   \n",
       "...            ...        ...        ...               ...        ...   \n",
       "2995  BattleGround  -0.489508  -0.155343             492.0    2일 18시간   \n",
       "2996  BattleGround  -0.489529  -0.154283            1572.0    5일 22시간   \n",
       "2997  BattleGround  -0.489536  -0.155645             504.0     2일 5시간   \n",
       "2998  BattleGround  -0.489572  -0.156705             217.0    2일 23시간   \n",
       "2999  BattleGround  -0.489579  -0.155494            1618.0     9일 1시간   \n",
       "\n",
       "      Total time(minute)  \n",
       "0              -0.785600  \n",
       "1              -0.252022  \n",
       "2               0.187396  \n",
       "3              -0.456037  \n",
       "4               0.469878  \n",
       "...                  ...  \n",
       "2995           -0.722826  \n",
       "2996            0.469878  \n",
       "2997           -0.926841  \n",
       "2998           -0.644359  \n",
       "2999            1.646889  \n",
       "\n",
       "[3000 rows x 6 columns]"
      ]
     },
     "execution_count": 36,
     "metadata": {},
     "output_type": "execute_result"
    }
   ],
   "source": [
    "import numpy\n",
    "df_zscale = pd.DataFrame(columns = header)\n",
    "for x in [\"categori\", \"donated\", \"maxViewer\", \"accumulateViewer\", \"Total time\", \"Total time(minute)\"]:\n",
    "    df_zscale[x] = df[x]\n",
    "\n",
    "for x in [\"donated\", \"maxViewer\", \"Total time(minute)\"]:\n",
    "    mean = sum(df[x])/len(df[x])\n",
    "    sd = numpy.std(df[x])\n",
    "    for i in range(3000):\n",
    "        a = (df[x][i] - mean)/sd\n",
    "        df_zscale[x][i] = a\n",
    "\n",
    "df_zscale"
   ]
  },
  {
   "cell_type": "markdown",
   "metadata": {},
   "source": [
    "[2] classfication"
   ]
  },
  {
   "cell_type": "code",
   "execution_count": 37,
   "metadata": {},
   "outputs": [],
   "source": [
    "def minkowskiDist(v1, v2, p):\n",
    "    \"\"\"Assumes v1 and v2 are equal-length arrays of numbers\n",
    "       Returns Minkowski distance of order p between v1 and v2\"\"\"\n",
    "    dist = 0.0\n",
    "    for i in range(len(v1)):\n",
    "        dist += abs(v1[i] - v2[i])**p\n",
    "    return dist**(1/p)"
   ]
  },
  {
   "cell_type": "code",
   "execution_count": 38,
   "metadata": {},
   "outputs": [],
   "source": [
    "class Broadcaster(object):\n",
    "    featureNames = (\"donated\", \"maxViewer\", \"Total time(minute)\")\n",
    "    def __init__(self, bClass, starBalloon, maxViewer, totalTime, num):\n",
    "        self.num = num\n",
    "        self.featureVec = [starBalloon, maxViewer, totalTime]\n",
    "        if(bClass == 'Talk'):\n",
    "            bClass2 = 0\n",
    "        elif(bClass == 'LeagueOfLegends'):\n",
    "            bClass2 = 1\n",
    "        else:\n",
    "            bClass2 = 2\n",
    "        self.label = bClass2\n",
    "        self.broadClass = bClass\n",
    "    def distance(self, other):\n",
    "        return minkowskiDist(self.featureVec, other.featureVec, 2)\n",
    "    def getClass(self):\n",
    "        return self.bClass2\n",
    "    def getStarBallon(self):\n",
    "        return self.featureVec[0]\n",
    "    def getMaxViewr(self):\n",
    "        return self.featureVec[1]\n",
    "    def getTotalTime(self):\n",
    "        return self.featureVec[2]\n",
    "    def getnum(self):\n",
    "        return self.num\n",
    "    def getFeatures(self):\n",
    "        return self.featureVec[:]\n",
    "    def getLabel(self):\n",
    "        return self.label\n",
    "    def getBroadClass(self):\n",
    "        return self.bClass"
   ]
  },
  {
   "cell_type": "code",
   "execution_count": 39,
   "metadata": {},
   "outputs": [
    {
     "name": "stdout",
     "output_type": "stream",
     "text": [
      "Finishe processing 3000 broadcasters\n",
      "\n"
     ]
    }
   ],
   "source": [
    "def buildBroadcastExamples(df, toScale = False):\n",
    "    data = df\n",
    "    examples = []\n",
    "    for i in range(len(data[\"categori\"])):\n",
    "        p = Broadcaster(data[\"categori\"][i], data[\"donated\"][i],\n",
    "                       data[\"maxViewer\"][i], data[\"Total time(minute)\"][i], i)\n",
    "        examples.append(p)\n",
    "    print('Finishe processing', len(examples), 'broadcasters\\n')\n",
    "    return examples\n",
    "\n",
    "examples = buildBroadcastExamples(df_zscale)"
   ]
  },
  {
   "cell_type": "code",
   "execution_count": 40,
   "metadata": {},
   "outputs": [],
   "source": [
    "def accuracy(true, false):\n",
    "    numerator = true\n",
    "    denominator = true + false\n",
    "    return numerator/denominator\n",
    "       \n",
    "def getStats(true, false, toPrint = True):\n",
    "    accur = accuracy(true, false)\n",
    "    if toPrint:\n",
    "        print(' Accuracy =', round(accur, 3))\n",
    "    return accur"
   ]
  },
  {
   "cell_type": "code",
   "execution_count": 41,
   "metadata": {},
   "outputs": [],
   "source": [
    "def findKNearest(example, exampleSet, k):\n",
    "    kNearest, distances = [], []\n",
    "    #Build lists containing first k examples and their distances\n",
    "    for i in range(k):\n",
    "        kNearest.append(exampleSet[i])\n",
    "        distances.append(example.distance(exampleSet[i]))\n",
    "    maxDist = max(distances) #Get maximum distance\n",
    "    #Look at examples not yet considered\n",
    "    for e in exampleSet[k:]:\n",
    "        dist = example.distance(e)\n",
    "        if dist < maxDist:\n",
    "            #replace farther neighbor by this one\n",
    "            maxIndex = distances.index(maxDist)\n",
    "            kNearest[maxIndex] = e\n",
    "            distances[maxIndex] = dist\n",
    "            maxDist = max(distances)      \n",
    "    return kNearest, distances\n",
    "    \n",
    "def KNearestClassify(training, testSet, label, k):\n",
    "    \"\"\"Assumes training & testSet lists of examples, k an int\n",
    "       Predicts whether each example in testSet has label\n",
    "       Returns number of true positives, false positives,\n",
    "          true negatives, and false negatives\"\"\"\n",
    "    true, false= 0, 0\n",
    "    for testCase in testSet:\n",
    "        nearest, distances = findKNearest(testCase, training, k)\n",
    "        #conduct vote\n",
    "        numMatch0, numMatch1, numMatch2 = 0, 0, 0\n",
    "        for i in range(len(nearest)):\n",
    "            if nearest[i].getLabel() == label[0]:\n",
    "                numMatch0 += 1\n",
    "            elif nearest[i].getLabel() == label[1]:\n",
    "                numMatch1 += 1\n",
    "            else:\n",
    "                numMatch2 += 1\n",
    "        #토크캠방, 리그오브레전드, 배틀그라운드 세 종류의 label을 가지므로 코드를 수정했다.\n",
    "        \n",
    "        if((numMatch0 == numMatch1) and (numMatch0 == numMatch2)):\n",
    "            numMatch1, numMatch2 = 0, 0\n",
    "        elif(numMatch0 == numMatch1):\n",
    "            numMatch1 = 0\n",
    "        elif(numMatch1 == numMatch2):\n",
    "            numMatch2 = 0\n",
    "        elif(numMatch2 == numMatch0):\n",
    "            numMatch0 = 0\n",
    "        #같은 값을 가질때 처리해준 방식이다.\n",
    "        \n",
    "        if numMatch0 == max([numMatch0, numMatch1, numMatch2]): #guess label\n",
    "            if testCase.getLabel() == label[0]: #예측 성공\n",
    "                true += 1\n",
    "            else: #예측 실패\n",
    "                false += 1\n",
    "        elif numMatch1 == max([numMatch0, numMatch1, numMatch2]): #guess label\n",
    "            if testCase.getLabel() == label[1]: #예측 성공\n",
    "                true += 1\n",
    "            else: #예측 실패\n",
    "                false += 1\n",
    "        elif numMatch2 == max([numMatch0, numMatch1, numMatch2]): #guess label\n",
    "            if testCase.getLabel() == label[2]: #예측 성공\n",
    "                true += 1\n",
    "            else: #예측 실패\n",
    "                false += 1\n",
    "        #3가지 경우에 대해서 각각 예측의 성공과 실패를 측정하게 했다        \n",
    "        \n",
    "    return true, false"
   ]
  },
  {
   "cell_type": "code",
   "execution_count": 42,
   "metadata": {},
   "outputs": [],
   "source": [
    "def split80_20(examples):\n",
    "    sampleIndices = random.sample(range(len(examples)),\n",
    "                                  len(examples)//5)\n",
    "    trainingSet, testSet = [], []\n",
    "    for i in range(len(examples)):\n",
    "        if i in sampleIndices:\n",
    "            testSet.append(examples[i])\n",
    "        else:\n",
    "            trainingSet.append(examples[i])\n",
    "    return trainingSet, testSet\n",
    "\n",
    "def randomSplits(examples, method, numSplits, toPrint = True):\n",
    "    true, false = 0, 0\n",
    "    random.seed(0)\n",
    "    for t in range(numSplits):\n",
    "        trainingSet, testSet = split80_20(examples)\n",
    "        results = method(trainingSet, testSet)\n",
    "        true += results[0]\n",
    "        false += results[1]\n",
    "    getStats(true/numSplits, false/numSplits, toPrint)\n",
    "    return true/numSplits, false/numSplits"
   ]
  },
  {
   "cell_type": "code",
   "execution_count": 43,
   "metadata": {},
   "outputs": [
    {
     "name": "stdout",
     "output_type": "stream",
     "text": [
      "Average of 10 80/20 splits using KNN (k=100)\n",
      " Accuracy = 0.662\n",
      "맞춘 개수(평균):  397.4     틀린 개수(평균):  202.6\n"
     ]
    }
   ],
   "source": [
    "knn = lambda training, testSet:\\\n",
    "             KNearestClassify(training, testSet,\n",
    "                              (0, 1, 2), 100)\n",
    "numSplits = 10\n",
    "print('Average of', numSplits,\n",
    "      '80/20 splits using KNN (k=100)')\n",
    "true, false = randomSplits(examples, knn, numSplits)\n",
    "print(\"맞춘 개수(평균): \", true,\"    틀린 개수(평균): \", false)"
   ]
  },
  {
   "cell_type": "code",
   "execution_count": 17,
   "metadata": {},
   "outputs": [
    {
     "name": "stdout",
     "output_type": "stream",
     "text": [
      "model.classes_ = [0 1 2]\n",
      "For label 0 토크캠방\n",
      "    donated = 2.366925488701554\n",
      "    maxViewer = -0.7859416615977277\n",
      "    Total time(minute) = -0.6584652132287232\n",
      "For label 1 리그오브레전드\n",
      "    donated = -1.5116445060744823\n",
      "    maxViewer = 0.42624740546011364\n",
      "    Total time(minute) = 0.11727489144860953\n",
      "For label 2 배틀그라운드\n",
      "    donated = -0.8552809826270746\n",
      "    maxViewer = 0.35969425613761374\n",
      "    Total time(minute) = 0.5411903217801174\n"
     ]
    },
    {
     "data": {
      "text/plain": [
       "LogisticRegression()"
      ]
     },
     "execution_count": 17,
     "metadata": {},
     "output_type": "execute_result"
    }
   ],
   "source": [
    "import sklearn.linear_model\n",
    "\n",
    "def buildModel(examples, toPrint = True):\n",
    "    featureVecs, labels = [],[]\n",
    "    for e in examples:\n",
    "        featureVecs.append(e.getFeatures())\n",
    "        labels.append(e.getLabel())\n",
    "    LogisticRegression = sklearn.linear_model.LogisticRegression\n",
    "    model = LogisticRegression().fit(featureVecs, labels)\n",
    "    if toPrint:\n",
    "        print('model.classes_ =', model.classes_)\n",
    "        for i in range(len(model.coef_)):\n",
    "            print('For label', model.classes_[i], ['토크캠방', '리그오브레전드', '배틀그라운드'][i])\n",
    "            for j in range(len(model.coef_[i])):\n",
    "                print('   ', Broadcaster.featureNames[j], '=',\n",
    "                      model.coef_[i][j])\n",
    "    return model\n",
    "buildModel(examples)"
   ]
  },
  {
   "cell_type": "markdown",
   "metadata": {},
   "source": [
    "[3] 시각화"
   ]
  },
  {
   "cell_type": "code",
   "execution_count": 22,
   "metadata": {},
   "outputs": [
    {
     "data": {
      "text/plain": [
       "Text(0, 0.5, 'donated')"
      ]
     },
     "execution_count": 22,
     "metadata": {},
     "output_type": "execute_result"
    },
    {
     "data": {
      "image/png": "[encoded data removed]",
      "text/plain": [
       "<Figure size 1080x648 with 1 Axes>"
      ]
     },
     "metadata": {
      "needs_background": "light"
     },
     "output_type": "display_data"
    }
   ],
   "source": [
    "fig, ax = plt.subplots(figsize=(15, 9))\n",
    "\n",
    "ax.scatter(df[df[\"categori\"] == \"Talk\"][\"Total time(minute)\"], df[df[\"categori\"] == \"Talk\"][\"donated\"], color='r', s=1)\n",
    "ax.scatter(df[df[\"categori\"] == \"LeagueOfLegends\"][\"Total time(minute)\"], df[df[\"categori\"] == \"LeagueOfLegends\"][\"donated\"], color='g', s=1)\n",
    "ax.scatter(df[df[\"categori\"] == \"BattleGround\"][\"Total time(minute)\"], df[df[\"categori\"] == \"BattleGround\"][\"donated\"], color='b', s=1)\n",
    "\n",
    "ax.set_title('categori')\n",
    "ax.set_xlabel('Total time')\n",
    "ax.set_ylabel('donated')"
   ]
  },
  {
   "cell_type": "markdown",
   "metadata": {},
   "source": [
    "방송시간과 후원된 별풍선의 개수를 각각 x, y로 설정해 그린 그래프이다. 색깔을 다르게 하여 카테고리끼리 구분지을 수 있게 구성했다."
   ]
  },
  {
   "cell_type": "code",
   "execution_count": 26,
   "metadata": {},
   "outputs": [
    {
     "data": {
      "text/plain": [
       "<AxesSubplot:xlabel='categori', ylabel='donated'>"
      ]
     },
     "execution_count": 26,
     "metadata": {},
     "output_type": "execute_result"
    },
    {
     "data": {
      "image/png": "[encoded data removed]",
      "text/plain": [
       "<Figure size 432x288 with 1 Axes>"
      ]
     },
     "metadata": {
      "needs_background": "light"
     },
     "output_type": "display_data"
    }
   ],
   "source": [
    "snb.boxplot(x = 'categori', y = 'donated', data = df)"
   ]
  },
  {
   "cell_type": "markdown",
   "metadata": {},
   "source": [
    "각 카테고리별로 후원된 금액에 대해서 boxplot을 그려봤다."
   ]
  },
  {
   "cell_type": "code",
   "execution_count": 23,
   "metadata": {},
   "outputs": [
    {
     "data": {
      "text/plain": [
       "<AxesSubplot:xlabel='categori', ylabel='maxViewer'>"
      ]
     },
     "execution_count": 23,
     "metadata": {},
     "output_type": "execute_result"
    },
    {
     "data": {
      "image/png": "[encoded data removed]",
      "text/plain": [
       "<Figure size 432x288 with 1 Axes>"
      ]
     },
     "metadata": {
      "needs_background": "light"
     },
     "output_type": "display_data"
    }
   ],
   "source": [
    "snb.boxplot(x = 'categori', y = 'maxViewer', data = df)"
   ]
  },
  {
   "cell_type": "markdown",
   "metadata": {},
   "source": [
    "각 카테고리별로 최대시청자수에 대해서 boxplot을 그려봤다."
   ]
  },
  {
   "cell_type": "code",
   "execution_count": 24,
   "metadata": {},
   "outputs": [
    {
     "data": {
      "text/plain": [
       "<AxesSubplot:xlabel='categori', ylabel='Total time(minute)'>"
      ]
     },
     "execution_count": 24,
     "metadata": {},
     "output_type": "execute_result"
    },
    {
     "data": {
      "image/png": "[encoded data removed]",
      "text/plain": [
       "<Figure size 432x288 with 1 Axes>"
      ]
     },
     "metadata": {
      "needs_background": "light"
     },
     "output_type": "display_data"
    }
   ],
   "source": [
    "snb.boxplot(x = 'categori', y = \"Total time(minute)\", data = df)"
   ]
  },
  {
   "cell_type": "markdown",
   "metadata": {},
   "source": [
    "각 카테고리별로 총 방송시간(분)에 대해서 boxplot을 그려봤다."
   ]
  },
  {
   "cell_type": "code",
   "execution_count": 27,
   "metadata": {},
   "outputs": [
    {
     "data": {
      "text/plain": [
       "<AxesSubplot:>"
      ]
     },
     "execution_count": 27,
     "metadata": {},
     "output_type": "execute_result"
    },
    {
     "data": {
      "image/png": "[encoded data removed]",
      "text/plain": [
       "<Figure size 432x288 with 2 Axes>"
      ]
     },
     "metadata": {
      "needs_background": "light"
     },
     "output_type": "display_data"
    }
   ],
   "source": [
    "snb.heatmap(df.corr(), annot = True)"
   ]
  },
  {
   "cell_type": "markdown",
   "metadata": {},
   "source": [
    "특성들의 관계를 나타내는 heatmap을 그려봤다."
   ]
  }
 ],
 "metadata": {
  "kernelspec": {
   "display_name": "Python 3 (ipykernel)",
   "language": "python",
   "name": "python3"
  },
  "language_info": {
   "codemirror_mode": {
    "name": "ipython",
    "version": 3
   },
   "file_extension": ".py",
   "mimetype": "text/x-python",
   "name": "python",
   "nbconvert_exporter": "python",
   "pygments_lexer": "ipython3",
   "version": "3.11.7"
  },
  "toc": {
   "base_numbering": 1,
   "nav_menu": {},
   "number_sections": true,
   "sideBar": true,
   "skip_h1_title": false,
   "title_cell": "Table of Contents",
   "title_sidebar": "Contents",
   "toc_cell": false,
   "toc_position": {},
   "toc_section_display": true,
   "toc_window_display": false
  }
 },
 "nbformat": 4,
 "nbformat_minor": 4
}
